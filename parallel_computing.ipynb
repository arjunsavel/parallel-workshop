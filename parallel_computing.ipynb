{
 "cells": [
  {
   "cell_type": "markdown",
   "metadata": {},
   "source": [
    "# Preamble 😴"
   ]
  },
  {
   "cell_type": "markdown",
   "metadata": {},
   "source": [
    "Parallel computing is great. Let's start with a simple example.\n",
    "\n",
    "\n",
    "*Note*: I use pretty bad importing practices throughout this notebook. Usually, everything should be imported at the top, but I make my imports within sections for visual clarity!\n",
    "\n",
    "\n",
    "I'll start with a wrapper for [tqdm](https://github.com/tqdm/tqdm), my favorite progress bar. If you don't have it installed, it'll just return an empty iterator."
   ]
  },
  {
   "cell_type": "code",
   "execution_count": 1,
   "metadata": {},
   "outputs": [],
   "source": [
    "try:\n",
    "    from tqdm import tqdm\n",
    "except ImportError:\n",
    "    print(\n",
    "        \"tqdm is not installed on this system, \\\n",
    "            so progress bars will be unavailable. \\\n",
    "            If you would like the progress bar feature, \\\n",
    "            please see the tqdm installation docs: \\\n",
    "            https://github.com/tqdm/tqdm#installation\"\n",
    "    )\n",
    "    # tqdm isn't available, so we define a \"do-nothing\" class.\n",
    "    class tqdm(object):\n",
    "        \"\"\"\n",
    "        Dummy class to replace the tqdm progress bar.\n",
    "        \"\"\"\n",
    "\n",
    "        def __init__(self, **kwargs):\n",
    "            \"\"\"\n",
    "            Initializes the dummy class. Any kwargs that are\n",
    "            passed to the \"real\" tqdm don't matter if tqdm\n",
    "            isn't installed.\n",
    "            \"\"\"\n",
    "            pass\n",
    "\n",
    "        def update(self, val):\n",
    "            \"\"\"\n",
    "            Dummy update method.\n",
    "            \"\"\"\n",
    "            pass"
   ]
  },
  {
   "cell_type": "markdown",
   "metadata": {
    "heading_collapsed": true
   },
   "source": [
    "# A function 🔧"
   ]
  },
  {
   "cell_type": "code",
   "execution_count": 2,
   "metadata": {
    "hidden": true
   },
   "outputs": [],
   "source": [
    "def function(long_list, verbose=True):\n",
    "    \"\"\"\n",
    "    A function that performs a very bad sort of a very long list.\n",
    "    \n",
    "    I think it performs as like O(n^2), but I'm not good at algorithms!\n",
    "    \n",
    "    Inputs\n",
    "    ------\n",
    "        :long_list: (list) a list to be sorted.\n",
    "        :verbose: (bool) print that we're starting or no?\n",
    "        \n",
    "    Outputs\n",
    "    --------\n",
    "        :long_list_sorted: (list) the input list, now sorted.\n",
    "    \"\"\"\n",
    "    long_list_sorted = []\n",
    "    \n",
    "    long_list_sorted += [long_list[0]]\n",
    "    \n",
    "    if verbose:\n",
    "        print('Starting sort!')\n",
    "    \n",
    "    for i, value in enumerate(long_list[1:]):\n",
    "#         pdb.set_trace()\n",
    "        \n",
    "        for j, compare_value in enumerate(long_list_sorted):\n",
    "\n",
    "            if value <= compare_value:\n",
    "                long_list_sorted.insert(j, value)\n",
    "                break\n",
    "    \n",
    "            #at the end, still need to add the value!\n",
    "            elif j == len(long_list_sorted) - 1:\n",
    "                long_list_sorted += [value]\n",
    "                break\n",
    "                \n",
    "            else:\n",
    "                continue\n",
    "            \n",
    "                    \n",
    "    return long_list_sorted\n",
    "                \n",
    "                \n",
    "    "
   ]
  },
  {
   "cell_type": "code",
   "execution_count": 217,
   "metadata": {
    "hidden": true
   },
   "outputs": [
    {
     "name": "stdout",
     "output_type": "stream",
     "text": [
      "Starting sort!\n"
     ]
    },
    {
     "data": {
      "text/plain": [
       "[2, 3, 3, 4, 5]"
      ]
     },
     "execution_count": 217,
     "metadata": {},
     "output_type": "execute_result"
    }
   ],
   "source": [
    "function([5, 2, 3, 3, 4])"
   ]
  },
  {
   "cell_type": "code",
   "execution_count": 218,
   "metadata": {
    "hidden": true
   },
   "outputs": [
    {
     "name": "stdout",
     "output_type": "stream",
     "text": [
      "7.68 µs ± 1.42 µs per loop (mean ± std. dev. of 7 runs, 100000 loops each)\n"
     ]
    }
   ],
   "source": [
    "%%timeit\n",
    "\n",
    "function([1,2,3,3,5,1,4,2], verbose=False)"
   ]
  },
  {
   "cell_type": "markdown",
   "metadata": {
    "heading_collapsed": true
   },
   "source": [
    "# Oop! It's slow! 😳"
   ]
  },
  {
   "cell_type": "code",
   "execution_count": 219,
   "metadata": {
    "hidden": true
   },
   "outputs": [],
   "source": [
    "from tqdm import tqdm"
   ]
  },
  {
   "cell_type": "code",
   "execution_count": 220,
   "metadata": {
    "hidden": true
   },
   "outputs": [],
   "source": [
    "arr = [1, 8532, 1, 86321, 3, 95]\n",
    "\n",
    "long_arr = []\n",
    "\n",
    "for i in range(1000):\n",
    "    long_arr += arr"
   ]
  },
  {
   "cell_type": "code",
   "execution_count": 221,
   "metadata": {
    "hidden": true
   },
   "outputs": [],
   "source": [
    "nested_arr = []\n",
    "\n",
    "for i in range(7):\n",
    "    nested_arr += [long_arr]"
   ]
  },
  {
   "cell_type": "code",
   "execution_count": 222,
   "metadata": {
    "hidden": true
   },
   "outputs": [
    {
     "name": "stdout",
     "output_type": "stream",
     "text": [
      "CPU times: user 10.9 s, sys: 75 ms, total: 10.9 s\n",
      "Wall time: 12.1 s\n"
     ]
    }
   ],
   "source": [
    "%%time\n",
    "\n",
    "for i in range(7):\n",
    "    function(long_arr, verbose=False)"
   ]
  },
  {
   "cell_type": "markdown",
   "metadata": {
    "heading_collapsed": true
   },
   "source": [
    "# Parallel programming time 😎"
   ]
  },
  {
   "cell_type": "code",
   "execution_count": 135,
   "metadata": {
    "hidden": true
   },
   "outputs": [],
   "source": [
    "from multiprocessing import Pool\n",
    "from functools import partial"
   ]
  },
  {
   "cell_type": "code",
   "execution_count": 166,
   "metadata": {
    "hidden": true
   },
   "outputs": [
    {
     "name": "stdout",
     "output_type": "stream",
     "text": [
      "CPU times: user 15.3 ms, sys: 16.3 ms, total: 31.6 ms\n",
      "Wall time: 6.92 s\n"
     ]
    }
   ],
   "source": [
    "%%time\n",
    "\n",
    "num_processes = 2\n",
    "\n",
    "with Pool(num_processes) as p:\n",
    "    func = partial(function, verbose=False)\n",
    "\n",
    "    result = list(p.imap(func, nested_arr))"
   ]
  },
  {
   "cell_type": "code",
   "execution_count": 167,
   "metadata": {
    "hidden": true
   },
   "outputs": [
    {
     "name": "stdout",
     "output_type": "stream",
     "text": [
      "CPU times: user 15.3 ms, sys: 17.8 ms, total: 33.1 ms\n",
      "Wall time: 6.73 s\n"
     ]
    }
   ],
   "source": [
    "%%time\n",
    "\n",
    "num_processes = 3\n",
    "\n",
    "with Pool(num_processes) as p:\n",
    "    func = partial(function, verbose=False)\n",
    "\n",
    "    result = list(p.imap(func, nested_arr))"
   ]
  },
  {
   "cell_type": "code",
   "execution_count": null,
   "metadata": {
    "hidden": true
   },
   "outputs": [],
   "source": []
  },
  {
   "cell_type": "markdown",
   "metadata": {
    "heading_collapsed": true
   },
   "source": [
    "# Multithreading 🤹"
   ]
  },
  {
   "cell_type": "code",
   "execution_count": 3,
   "metadata": {
    "hidden": true
   },
   "outputs": [],
   "source": [
    "import requests\n",
    "import urllib.request\n",
    "import time\n",
    "from bs4 import BeautifulSoup\n",
    "import numpy as np\n",
    "import pandas as pd\n",
    "from urllib.request import urlopen\n",
    "url = 'https://en.wikipedia.org/wiki/List_of_tautological_place_names'\n",
    "html = urlopen(url) \n",
    "soup = BeautifulSoup(html, 'html.parser')"
   ]
  },
  {
   "cell_type": "code",
   "execution_count": 4,
   "metadata": {
    "hidden": true
   },
   "outputs": [],
   "source": [
    "from urllib.error import HTTPError\n",
    "from queue import Queue\n",
    "from threading import Thread\n"
   ]
  },
  {
   "cell_type": "code",
   "execution_count": 7,
   "metadata": {
    "hidden": true
   },
   "outputs": [],
   "source": [
    "hrefs = []\n",
    "\n",
    "for a in soup.find_all('a', href=True):\n",
    "    href = a['href']\n",
    "    if href[:5] == '/wiki':\n",
    "        href = 'https://en.wikipedia.org/' + href\n",
    "        \n",
    "    if href[:3] == '/w/' or href[0] == '#':\n",
    "        continue\n",
    "        \n",
    "    if href[:2] == '//':\n",
    "        href = href[2:]\n",
    "    \n",
    "    hrefs += [href]"
   ]
  },
  {
   "cell_type": "code",
   "execution_count": 13,
   "metadata": {
    "hidden": true
   },
   "outputs": [],
   "source": [
    "from tqdm import tqdm"
   ]
  },
  {
   "cell_type": "code",
   "execution_count": 14,
   "metadata": {
    "hidden": true,
    "scrolled": true
   },
   "outputs": [
    {
     "name": "stderr",
     "output_type": "stream",
     "text": [
      " 90%|████████▉ | 667/745 [06:45<00:39,  1.96it/s]Some characters could not be decoded, and were replaced with REPLACEMENT CHARACTER.\n",
      "100%|██████████| 745/745 [08:05<00:00,  1.53it/s]"
     ]
    },
    {
     "name": "stdout",
     "output_type": "stream",
     "text": [
      "CPU times: user 3min 55s, sys: 5.79 s, total: 4min\n",
      "Wall time: 8min 6s\n"
     ]
    },
    {
     "name": "stderr",
     "output_type": "stream",
     "text": [
      "\n"
     ]
    }
   ],
   "source": [
    "%%time\n",
    "\n",
    "for href in tqdm(hrefs):\n",
    "    try:\n",
    "        html = urlopen(href) \n",
    "        soup = BeautifulSoup(html, 'html.parser')\n",
    "    except:\n",
    "        pass"
   ]
  },
  {
   "cell_type": "code",
   "execution_count": 5,
   "metadata": {
    "hidden": true
   },
   "outputs": [],
   "source": [
    "class DownloadWorker(Thread):\n",
    "\n",
    "    def __init__(self, queue):\n",
    "        Thread.__init__(self)\n",
    "        self.queue = queue\n",
    "\n",
    "    def run(self):\n",
    "        while True:\n",
    "            # Get the work from the queue and expand the tuple\n",
    "            href = self.queue.get()\n",
    "            try:\n",
    "                html = urlopen(href) \n",
    "                soup = BeautifulSoup(html, 'html.parser')\n",
    "            except:\n",
    "                pass\n",
    "            finally:\n",
    "                self.queue.task_done()"
   ]
  },
  {
   "cell_type": "code",
   "execution_count": 16,
   "metadata": {
    "hidden": true
   },
   "outputs": [
    {
     "name": "stderr",
     "output_type": "stream",
     "text": [
      "Some characters could not be decoded, and were replaced with REPLACEMENT CHARACTER.\n"
     ]
    },
    {
     "name": "stdout",
     "output_type": "stream",
     "text": [
      "CPU times: user 3min 45s, sys: 6.5 s, total: 3min 52s\n",
      "Wall time: 5min 13s\n"
     ]
    }
   ],
   "source": [
    "%%time\n",
    "\n",
    "queue = Queue()\n",
    "\n",
    "\n",
    "# Create the worker threads\n",
    "for x in range(2):\n",
    "    worker = DownloadWorker(queue)\n",
    "    # Setting daemon to True will let the main thread exit even though the workers are blocking\n",
    "    worker.daemon = True\n",
    "    worker.start()\n",
    "    \n",
    "# Put the tasks into the queue as a tuple\n",
    "for href in hrefs:\n",
    "    queue.put((href))\n",
    "# Causes the main thread to wait for the queue to finish processing all the tasks\n",
    "queue.join()"
   ]
  },
  {
   "cell_type": "markdown",
   "metadata": {
    "heading_collapsed": true
   },
   "source": [
    "# Bonus: Numba 🔢"
   ]
  },
  {
   "cell_type": "code",
   "execution_count": 172,
   "metadata": {
    "hidden": true
   },
   "outputs": [],
   "source": [
    "from numba import njit\n",
    "import numpy as np"
   ]
  },
  {
   "cell_type": "code",
   "execution_count": 207,
   "metadata": {
    "hidden": true
   },
   "outputs": [],
   "source": [
    "def function(long_list, verbose=True):\n",
    "    \"\"\"\n",
    "    A function that performs a very bad sort of a very long list.\n",
    "    \n",
    "    I think it performs as like O(n^2), but I'm not good at algorithms!\n",
    "    \n",
    "    Inputs\n",
    "    ------\n",
    "        :long_list: (list) a list to be sorted.\n",
    "        :verbose: (bool) print that we're starting or no?\n",
    "        \n",
    "    Outputs\n",
    "    --------\n",
    "        :long_list_sorted: (list) the input list, now sorted.\n",
    "    \"\"\"\n",
    "#     long_list = np.array(long_list)\n",
    "    long_list = long_list * long_list\n",
    "    \n",
    "    for value in [13,14,15]:\n",
    "        long_list = value * long_list\n",
    "            \n",
    "                    \n",
    "    return long_list\n",
    "                "
   ]
  },
  {
   "cell_type": "code",
   "execution_count": 213,
   "metadata": {
    "hidden": true
   },
   "outputs": [],
   "source": [
    "@njit\n",
    "def function_jitted(long_list, verbose=True):\n",
    "    \"\"\"\n",
    "    A function that performs a very bad sort of a very long list.\n",
    "    \n",
    "    I think it performs as like O(n^2), but I'm not good at algorithms!\n",
    "    \n",
    "    Inputs\n",
    "    ------\n",
    "        :long_list: (list) a list to be sorted.\n",
    "        :verbose: (bool) print that we're starting or no?\n",
    "        \n",
    "    Outputs\n",
    "    --------\n",
    "        :long_list_sorted: (list) the input list, now sorted.\n",
    "    \"\"\"\n",
    "#     long_list = np.array(long_list)\n",
    "    long_list = long_list * long_list\n",
    "    \n",
    "    for value in [13,14,16]:\n",
    "        long_list = value * long_list\n",
    "                \n",
    "    return long_list"
   ]
  },
  {
   "cell_type": "code",
   "execution_count": 209,
   "metadata": {
    "hidden": true
   },
   "outputs": [
    {
     "name": "stdout",
     "output_type": "stream",
     "text": [
      "38.3 µs ± 4.53 µs per loop (mean ± std. dev. of 7 runs, 10000 loops each)\n"
     ]
    }
   ],
   "source": [
    "%%timeit\n",
    "\n",
    "for i in range(7):\n",
    "    function(np.array([1,2,3]), verbose=False)"
   ]
  },
  {
   "cell_type": "code",
   "execution_count": 214,
   "metadata": {
    "hidden": true
   },
   "outputs": [
    {
     "name": "stdout",
     "output_type": "stream",
     "text": [
      "27.4 µs ± 6.96 µs per loop (mean ± std. dev. of 7 runs, 1 loop each)\n"
     ]
    }
   ],
   "source": [
    "%%timeit\n",
    "\n",
    "for i in range(7):\n",
    "    function_jitted(np.array([1,2,3]), verbose=False)"
   ]
  },
  {
   "cell_type": "code",
   "execution_count": 215,
   "metadata": {
    "hidden": true
   },
   "outputs": [
    {
     "name": "stdout",
     "output_type": "stream",
     "text": [
      "25.3 µs ± 1.74 µs per loop (mean ± std. dev. of 7 runs, 10000 loops each)\n"
     ]
    }
   ],
   "source": [
    "%%timeit\n",
    "\n",
    "for i in range(7):\n",
    "    function_jitted(np.array([1,2,3]), verbose=False)"
   ]
  },
  {
   "cell_type": "markdown",
   "metadata": {
    "heading_collapsed": true
   },
   "source": [
    "# Bonus: OpenMP"
   ]
  },
  {
   "cell_type": "markdown",
   "metadata": {
    "hidden": true
   },
   "source": [
    "We won't actually go through OpenMP — but we can take a look at some of the syntax to get a feel for it.\n",
    "\n",
    "(Code borrowed from [here](https://gribblelab.org/teaching/CBootCamp/A2_Parallel_Programming_in_C.html))"
   ]
  },
  {
   "cell_type": "code",
   "execution_count": null,
   "metadata": {
    "hidden": true
   },
   "outputs": [],
   "source": [
    "#include <omp.h>\n",
    "\n",
    "main ()  {\n",
    "\n",
    "int var1, var2, var3;\n",
    "\n",
    "Serial code \n",
    "      .\n",
    "      .\n",
    "      .\n",
    "\n",
    "Beginning of parallel section. Fork a team of threads.\n",
    "Specify variable scoping \n",
    "\n",
    "#pragma omp parallel private(var1, var2) shared(var3)\n",
    "  {\n",
    "\n",
    "  Parallel section executed by all threads \n",
    "        .\n",
    "        .\n",
    "        .\n",
    "\n",
    "  All threads join master thread and disband \n",
    "\n",
    "  }  \n",
    "\n",
    "Resume serial code \n",
    "      .\n",
    "      .\n",
    "      .\n",
    "\n",
    "}"
   ]
  }
 ],
 "metadata": {
  "kernelspec": {
   "display_name": "Python 3",
   "language": "python",
   "name": "python3"
  },
  "language_info": {
   "codemirror_mode": {
    "name": "ipython",
    "version": 3
   },
   "file_extension": ".py",
   "mimetype": "text/x-python",
   "name": "python",
   "nbconvert_exporter": "python",
   "pygments_lexer": "ipython3",
   "version": "3.6.10"
  }
 },
 "nbformat": 4,
 "nbformat_minor": 4
}
